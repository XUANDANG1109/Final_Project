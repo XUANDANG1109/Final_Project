{
 "cells": [
  {
   "cell_type": "markdown",
   "id": "9f3ecd19",
   "metadata": {},
   "source": [
    "# ASSIGNMENT 5 - GROUP 1\n",
    "## FINAL PROJECT\n",
    "### Date 04/04/2022\n",
    "\n",
    "### Member:\n",
    "- Cong Minh Nguyen\n",
    "- Linh Nguyen\n",
    "- Xuan Dang Thi Linh"
   ]
  },
  {
   "cell_type": "markdown",
   "id": "c774fb86",
   "metadata": {},
   "source": [
    "# Convertor\n",
    "\n",
    "### Create a program that can be used to converttemperature, length, weight, pressure.Your program should have a menu displayed for the user to choose from, where are listed the convertion options:\n",
    "### temperature \n",
    "###            - fahrenheit to celsius\n",
    "###            - celsius to fahrenheit \n",
    "### length\n",
    "###            - miles to km \n",
    "###            - km to miles \n",
    "### weight\n",
    "###            - pound to kilogramms \n",
    "###            - kg to pound\n",
    "### exit\n",
    "### The program should allow user to choose the desired convertionover and over again until user chooses to quit using it."
   ]
  },
  {
   "cell_type": "code",
   "execution_count": 5,
   "id": "faacc2b4",
   "metadata": {},
   "outputs": [
    {
     "data": {
      "application/vnd.jupyter.widget-view+json": {
       "model_id": "8225b3cab5fe43388a70422011214751",
       "version_major": 2,
       "version_minor": 0
      },
      "text/plain": [
       "Text(value='', description='User Input', layout=Layout(height='50px', width='300px'))"
      ]
     },
     "metadata": {},
     "output_type": "display_data"
    },
    {
     "data": {
      "application/vnd.jupyter.widget-view+json": {
       "model_id": "d1b1bb93c74947378bbba8e3ed9b5189",
       "version_major": 2,
       "version_minor": 0
      },
      "text/plain": [
       "Text(value='', description='Result', disabled=True, layout=Layout(height='50px', width='300px'))"
      ]
     },
     "metadata": {},
     "output_type": "display_data"
    },
    {
     "data": {
      "application/vnd.jupyter.widget-view+json": {
       "model_id": "09d5da5dfbfd42f28989075093637a4d",
       "version_major": 2,
       "version_minor": 0
      },
      "text/plain": [
       "RadioButtons(description='Type:', options=('Km->Mile', 'Mile->Km', 'Kg->Pound', 'Pound->Kg', '°F->°C ', '°C->°…"
      ]
     },
     "metadata": {},
     "output_type": "display_data"
    },
    {
     "data": {
      "application/vnd.jupyter.widget-view+json": {
       "model_id": "ca031e9afed3407f98dcf1353ca89a6d",
       "version_major": 2,
       "version_minor": 0
      },
      "text/plain": [
       "Button(description='Clear', layout=Layout(height='50px', width='300px'), style=ButtonStyle(button_color='gray'…"
      ]
     },
     "metadata": {},
     "output_type": "display_data"
    },
    {
     "data": {
      "application/vnd.jupyter.widget-view+json": {
       "model_id": "a557eb5a22b348e6930271410f7fe30f",
       "version_major": 2,
       "version_minor": 0
      },
      "text/plain": [
       "Button(description='CONVERSION', layout=Layout(height='50px', width='300px'), style=ButtonStyle(button_color='…"
      ]
     },
     "metadata": {},
     "output_type": "display_data"
    }
   ],
   "source": [
    "# Import ipywidgets for Graphical User Interface (GUI)\n",
    "from ipywidgets import RadioButtons, Button, GridBox, Layout, ButtonStyle, Text, Output\n",
    "\n",
    "\n",
    "# Define output\n",
    "output = Output()\n",
    "\n",
    "# Create input display screen\n",
    "input_screen = Text(description = \"User Input\", layout=Layout(width='300px', height='50px'))\n",
    "display(input_screen)\n",
    "\n",
    "# Create result display screen\n",
    "result_screen = Text(description = \"Result\", disabled=True, layout=Layout(width='300px', height='50px'))\n",
    "display(result_screen)\n",
    "\n",
    "\n",
    "rButton = RadioButtons(\n",
    "    options=['Km->Mile', 'Mile->Km', 'Kg->Pound', 'Pound->Kg', '°F->°C ', '°C->°F'],\n",
    "    description='Type:',\n",
    "    disabled=False\n",
    ")\n",
    "display(rButton)\n",
    "\n",
    "clear  = Button(description='Clear',\n",
    "                 layout=Layout(width='300px', height='50px'),\n",
    "                 style=ButtonStyle(button_color='gray'))\n",
    "display(clear)\n",
    "\n",
    "convert  = Button(description='CONVERSION',\n",
    "                 layout=Layout(width='300px', height='50px'),\n",
    "                 style=ButtonStyle(button_color='Darkorange'))\n",
    "\n",
    "display(convert)\n",
    "\n",
    "def bclear(b):\n",
    "    input_screen.value = \"\"\n",
    "    result_screen.value = \"\"\n",
    "           \n",
    "clear.on_click(bclear)\n",
    "\n",
    "# define convert fomular\n",
    "def convt(b):\n",
    "    x = float(input_screen.value)\n",
    "    if rButton.value == \"Km->Mile\":\n",
    "        x = float(input_screen.value)\n",
    "        input_screen.value = input_screen.value + \"  Km\"\n",
    "        y = x * 0.62137\n",
    "        result_screen.value = str(round(y, 2)) + \"  Miles\"\n",
    "    elif rButton.value == \"Mile->Km\":\n",
    "        x = float(input_screen.value)\n",
    "        input_screen.value = input_screen.value + \"  Miles\"\n",
    "        y = x / 0.62137\n",
    "        result_screen.value = str(round(y, 2)) + \"  Km\"\n",
    "    elif rButton.value == \"Kg->Pound\":\n",
    "        x = float(input_screen.value)\n",
    "        input_screen.value = input_screen.value + \"  Kg\"\n",
    "        y = x * 2.2\n",
    "        result_screen.value = str(round(y, 2)) + \"  Pounds\"\n",
    "    elif rButton.value == \"Pound->Kg\":\n",
    "        x = float(input_screen.value)\n",
    "        input_screen.value = input_screen.value + \"  Pounds\"\n",
    "        y = x / 2.2\n",
    "        result_screen.value = str(round(y, 2)) + \"  Kg\"\n",
    "    elif rButton.value == \"°F->°C \":\n",
    "        x = float(input_screen.value)\n",
    "        input_screen.value = input_screen.value + \"  °F\"\n",
    "        y = 5/9 * (x - 32)\n",
    "        result_screen.value = str(round(y, 2)) + \" °C \"\n",
    "    elif rButton.value == \"°C->°F\":\n",
    "        x = float(input_screen.value)\n",
    "        input_screen.value = input_screen.value + \"  °F\"\n",
    "        y = (x * 9/5) + 32\n",
    "        result_screen.value = str(round(y, 2)) + \" °C \"\n",
    "convert.on_click(convt)"
   ]
  },
  {
   "cell_type": "code",
   "execution_count": null,
   "id": "227bff7a",
   "metadata": {},
   "outputs": [],
   "source": []
  },
  {
   "cell_type": "code",
   "execution_count": null,
   "id": "c143f5af",
   "metadata": {},
   "outputs": [],
   "source": []
  }
 ],
 "metadata": {
  "kernelspec": {
   "display_name": "Python 3 (ipykernel)",
   "language": "python",
   "name": "python3"
  },
  "language_info": {
   "codemirror_mode": {
    "name": "ipython",
    "version": 3
   },
   "file_extension": ".py",
   "mimetype": "text/x-python",
   "name": "python",
   "nbconvert_exporter": "python",
   "pygments_lexer": "ipython3",
   "version": "3.9.7"
  }
 },
 "nbformat": 4,
 "nbformat_minor": 5
}
