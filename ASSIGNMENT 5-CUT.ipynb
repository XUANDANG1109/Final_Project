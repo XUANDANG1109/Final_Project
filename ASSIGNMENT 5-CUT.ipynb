{
 "cells": [
  {
   "cell_type": "markdown",
   "id": "d004847a",
   "metadata": {},
   "source": [
    "# ASSIGNMENT 5 - GROUP 1\n",
    "## FINAL PROJECT\n",
    "### Date 04/04/2022\n",
    "\n",
    "### Member:\n",
    "- Cong Minh Nguyen\n",
    "- Linh Nguyen\n",
    "- Xuan Dang Thi Linh\n",
    "\n",
    "Link for Github: https://github.com/XUANDANG1109/Final_Project"
   ]
  },
  {
   "cell_type": "markdown",
   "id": "dea35033",
   "metadata": {},
   "source": [
    "# Convertor\n",
    "\n",
    " Create a program that can be used to converttemperature, length, weight, pressure.Your program should have a menu displayed for the user to choose from, where are listed the convertion options:\n",
    " \n",
    " . temperature \n",
    "          \n",
    "          - fahrenheit to celsius\n",
    "          - celsius to fahrenheit \n",
    " . length\n",
    "           \n",
    "          - miles to km \n",
    "          - km to miles \n",
    " . weight\n",
    "           \n",
    "          - pound to kilogramms \n",
    "          - kg to pound\n",
    " exit\n",
    " \n",
    "The program should allow user to choose the desired convertionover and over again until user chooses to quit using it."
   ]
  },
  {
   "cell_type": "markdown",
   "id": "0875838e",
   "metadata": {},
   "source": [
    "*# Import ipywidgets for Graphical User Interface (GUI)*"
   ]
  },
  {
   "cell_type": "code",
   "execution_count": 2,
   "id": "c7cc7683",
   "metadata": {},
   "outputs": [],
   "source": [
    "from ipywidgets import RadioButtons, Button, GridBox, Layout, ButtonStyle, Text, Output"
   ]
  },
  {
   "cell_type": "markdown",
   "id": "a6b4ea18",
   "metadata": {},
   "source": [
    "*# Define output*"
   ]
  },
  {
   "cell_type": "code",
   "execution_count": 3,
   "id": "3f135ba7",
   "metadata": {},
   "outputs": [],
   "source": [
    "output = Output()"
   ]
  },
  {
   "cell_type": "markdown",
   "id": "dc233e15",
   "metadata": {},
   "source": [
    "*# Create input display screen*"
   ]
  },
  {
   "cell_type": "code",
   "execution_count": 6,
   "id": "c05b94be",
   "metadata": {},
   "outputs": [
    {
     "data": {
      "application/vnd.jupyter.widget-view+json": {
       "model_id": "4bfb277244264690af19306688963c31",
       "version_major": 2,
       "version_minor": 0
      },
      "text/plain": [
       "Text(value='', description='User Input', layout=Layout(height='50px', width='300px'))"
      ]
     },
     "metadata": {},
     "output_type": "display_data"
    },
    {
     "data": {
      "application/vnd.jupyter.widget-view+json": {
       "model_id": "e181efd84bd24998924deda5e7d76ea9",
       "version_major": 2,
       "version_minor": 0
      },
      "text/plain": [
       "Text(value='', description='Result', disabled=True, layout=Layout(height='50px', width='300px'))"
      ]
     },
     "metadata": {},
     "output_type": "display_data"
    },
    {
     "data": {
      "application/vnd.jupyter.widget-view+json": {
       "model_id": "f71e939558144430affeb8c542133502",
       "version_major": 2,
       "version_minor": 0
      },
      "text/plain": [
       "RadioButtons(description='Type:', options=('Km->Mile', 'Mile->Km', 'Kg->Pound', 'Pound->Kg', '°F->°C ', '°C->°…"
      ]
     },
     "metadata": {},
     "output_type": "display_data"
    },
    {
     "data": {
      "application/vnd.jupyter.widget-view+json": {
       "model_id": "3058ce00631c4d9abf4a9dc1f99be89d",
       "version_major": 2,
       "version_minor": 0
      },
      "text/plain": [
       "Button(description='Clear', layout=Layout(height='50px', width='300px'), style=ButtonStyle(button_color='gray'…"
      ]
     },
     "metadata": {},
     "output_type": "display_data"
    },
    {
     "data": {
      "application/vnd.jupyter.widget-view+json": {
       "model_id": "9e24fee26b8a44f99f8f67de0eedfb8a",
       "version_major": 2,
       "version_minor": 0
      },
      "text/plain": [
       "Button(description='CONVERSION', layout=Layout(height='50px', width='300px'), style=ButtonStyle(button_color='…"
      ]
     },
     "metadata": {},
     "output_type": "display_data"
    }
   ],
   "source": [
    "# Create input display screen\n",
    "input_screen = Text(description = \"User Input\", layout=Layout(width='300px', height='50px'))\n",
    "display(input_screen)\n",
    "\n",
    "# Create result display screen\n",
    "result_screen = Text(description = \"Result\", disabled=True, layout=Layout(width='300px', height='50px'))\n",
    "display(result_screen)\n",
    "\n",
    "# Create display button\n",
    "rButton = RadioButtons(\n",
    "    options=['Km->Mile', 'Mile->Km', 'Kg->Pound', 'Pound->Kg', '°F->°C ', '°C->°F'],\n",
    "    description='Type:',\n",
    "    disabled=False\n",
    ")\n",
    "display(rButton)\n",
    "\n",
    "# Create display clear\n",
    "clear  = Button(description='Clear',\n",
    "                 layout=Layout(width='300px', height='50px'),\n",
    "                 style=ButtonStyle(button_color='gray'))\n",
    "display(clear)\n",
    "\n",
    "# Create display conversion\n",
    "convert  = Button(description='CONVERSION',\n",
    "                 layout=Layout(width='300px', height='50px'),\n",
    "                 style=ButtonStyle(button_color='Darkorange'))\n",
    "\n",
    "display(convert)\n"
   ]
  },
  {
   "cell_type": "markdown",
   "id": "80cb8d32",
   "metadata": {},
   "source": [
    "*# Define on_click event for button clear*"
   ]
  },
  {
   "cell_type": "code",
   "execution_count": 7,
   "id": "9ed3dd70",
   "metadata": {},
   "outputs": [],
   "source": [
    "def bclear(b):\n",
    "    input_screen.value = \"\"\n",
    "    result_screen.value = \"\"\n",
    "           \n",
    "clear.on_click(bclear)"
   ]
  },
  {
   "cell_type": "markdown",
   "id": "fecd36e4",
   "metadata": {},
   "source": [
    "*# Define convert fomular*"
   ]
  },
  {
   "cell_type": "code",
   "execution_count": 9,
   "id": "5246697e",
   "metadata": {},
   "outputs": [],
   "source": [
    "def convt(b):\n",
    "    x = float(input_screen.value)\n",
    "    if rButton.value == \"Km->Mile\":\n",
    "        x = float(input_screen.value)\n",
    "        input_screen.value = input_screen.value + \"  Km\"\n",
    "        y = x * 0.62137\n",
    "        result_screen.value = str(round(y, 2)) + \"  Miles\"\n",
    "    elif rButton.value == \"Mile->Km\":\n",
    "        x = float(input_screen.value)\n",
    "        input_screen.value = input_screen.value + \"  Miles\"\n",
    "        y = x / 0.62137\n",
    "        result_screen.value = str(round(y, 2)) + \"  Km\"\n",
    "    elif rButton.value == \"Kg->Pound\":\n",
    "        x = float(input_screen.value)\n",
    "        input_screen.value = input_screen.value + \"  Kg\"\n",
    "        y = x * 2.2\n",
    "        result_screen.value = str(round(y, 2)) + \"  Pounds\"\n",
    "    elif rButton.value == \"Pound->Kg\":\n",
    "        x = float(input_screen.value)\n",
    "        input_screen.value = input_screen.value + \"  Pounds\"\n",
    "        y = x / 2.2\n",
    "        result_screen.value = str(round(y, 2)) + \"  Kg\"\n",
    "    elif rButton.value == \"°F->°C \":\n",
    "        x = float(input_screen.value)\n",
    "        input_screen.value = input_screen.value + \"  °F\"\n",
    "        y = 5/9 * (x - 32)\n",
    "        result_screen.value = str(round(y, 2)) + \" °C \"\n",
    "    elif rButton.value == \"°C->°F\":\n",
    "        x = float(input_screen.value)\n",
    "        input_screen.value = input_screen.value + \"  °F\"\n",
    "        y = (x * 9/5) + 32\n",
    "        result_screen.value = str(round(y, 2)) + \" °C \"\n",
    "convert.on_click(convt)"
   ]
  },
  {
   "cell_type": "code",
   "execution_count": null,
   "id": "42226f3e",
   "metadata": {},
   "outputs": [],
   "source": []
  }
 ],
 "metadata": {
  "kernelspec": {
   "display_name": "Python 3 (ipykernel)",
   "language": "python",
   "name": "python3"
  },
  "language_info": {
   "codemirror_mode": {
    "name": "ipython",
    "version": 3
   },
   "file_extension": ".py",
   "mimetype": "text/x-python",
   "name": "python",
   "nbconvert_exporter": "python",
   "pygments_lexer": "ipython3",
   "version": "3.9.7"
  }
 },
 "nbformat": 4,
 "nbformat_minor": 5
}
